{
 "cells": [
  {
   "cell_type": "markdown",
   "metadata": {},
   "source": [
    "# Foundations of Data Science - CMU Portugal Academy\n",
    "\n",
    "> In this second lab, we will focus on using numpy features to solve a set of problems. You should use numpy operations as much as possible, in all exercises. \n",
    "> \n",
    "> Instructors:\n",
    ">   - David Semedo (df.semedo@fct.unl.pt)\n",
    ">   - Rafael Ferreira (rah.ferreira@fct.unl.pt)\n",
    "> "
   ]
  },
  {
   "cell_type": "code",
   "execution_count": 1,
   "metadata": {},
   "outputs": [],
   "source": [
    "import numpy as np"
   ]
  },
  {
   "cell_type": "markdown",
   "metadata": {},
   "source": [
    "## Ex. 1 - Computing Project Costs with Matrix Multiplication\n",
    "\n",
    "\n",
    "You are working for a construction company that handles multiple projects, each requiring different quantities of materials like steel, cement, and wood. Each material has a specific cost per unit, and your task is to help the project managers quickly estimate the total cost for each project.\n",
    "\n",
    "Using the provided data on material requirements and costs,use matrix multiplication to compute the total cost for each project. \n",
    "\n",
    "This will help the company plan budgets more effectively and ensure that projects stay within financial limits.\n",
    "\n"
   ]
  },
  {
   "cell_type": "code",
   "execution_count": 2,
   "metadata": {},
   "outputs": [],
   "source": [
    "# Material requirements for each project (rows: projects, columns: materials)\n",
    "material_requirements = np.array([[10, 5, 2],  # Project 1\n",
    "                                  [7, 8, 3],   # Project 2\n",
    "                                  [5, 4, 1],   # Project 3\n",
    "                                  [12, 7, 4]]) # Project 4\n",
    "\n",
    "# Costs per unit for each material\n",
    "material_costs = np.array([100, 50, 25])  # Cost for Material 1, Material 2, Material 3"
   ]
  },
  {
   "cell_type": "code",
   "execution_count": 3,
   "metadata": {},
   "outputs": [],
   "source": [
    "total_costs = np.dot(material_requirements, material_costs)"
   ]
  },
  {
   "cell_type": "code",
   "execution_count": 4,
   "metadata": {},
   "outputs": [
    {
     "name": "stdout",
     "output_type": "stream",
     "text": [
      "Total costs for each project:  [1300 1175  725 1650]\n"
     ]
    }
   ],
   "source": [
    "# Print the results\n",
    "print(\"Total costs for each project: \", total_costs)"
   ]
  },
  {
   "cell_type": "code",
   "execution_count": 5,
   "metadata": {},
   "outputs": [],
   "source": [
    "# validate the results\n",
    "assert np.all(total_costs == np.array([1300, 1175,  725, 1650])), \"Try Again!\""
   ]
  },
  {
   "cell_type": "markdown",
   "metadata": {},
   "source": [
    "## Ex. 2 - Finding the Peak Temperatures Over the Year, for each city\n",
    "\n",
    "\n",
    "You are tasked with analyzing temperature data for multiple cities during a full year. \n",
    "Each city has provided daily temperature recordings for 365 days, and your goal is to identify the hottest day of the year, and its corresponding temperature, of each city. \n",
    "\n",
    "Organize the data in a dictionary and use NumPy and argmax to efficiently find the peak temperatures and when they occurred. Your function should return a dictionary, in which keys are city names (list named `cities`), and values are another dictionary of the form `{\"day\": day_number, \"temperature\": temperature_reading}`. In the latter, `day_number` should be a number between 1 and 365, and `temperature_reading` a float with the corresponding temperature."
   ]
  },
  {
   "cell_type": "code",
   "execution_count": 6,
   "metadata": {},
   "outputs": [
    {
     "name": "stdout",
     "output_type": "stream",
     "text": [
      "City_temperatures shape:  (5, 365)\n"
     ]
    }
   ],
   "source": [
    "np.random.seed(42) # Fix the seed for reproducibility\n",
    "\n",
    "cities = ['Lisbon', 'Porto', 'Sintra', 'Faro', 'Coimbra']\n",
    "\n",
    "city_temperatures = np.random.uniform(low=-10, high=50, size=(len(cities), 365,))\n",
    "city_temperatures = np.round(city_temperatures, 2)\n",
    "print(\"City_temperatures shape: \", city_temperatures.shape)"
   ]
  },
  {
   "cell_type": "code",
   "execution_count": 7,
   "metadata": {},
   "outputs": [],
   "source": [
    "import numpy as np\n",
    "\n",
    "def analyze_peak_temperatures(temperatures):\n",
    "\n",
    "    results = {} \n",
    "\n",
    "    peak_indexes = np.argmax(temperatures, axis=1)\n",
    "\n",
    "    for i in range(len(cities)):\n",
    "        city_data = {\n",
    "            \"day\": peak_indexes[i] + 1,\n",
    "            \"temperature\": np.round(temperatures[i, peak_indexes[i]], 2)\n",
    "        }\n",
    "        results[cities[i]] = city_data\n",
    "\n",
    "    return results\n"
   ]
  },
  {
   "cell_type": "code",
   "execution_count": 8,
   "metadata": {},
   "outputs": [
    {
     "name": "stdout",
     "output_type": "stream",
     "text": [
      "{'Lisbon': {'day': 262, 'temperature': 49.4}, 'Porto': {'day': 167, 'temperature': 49.98}, 'Sintra': {'day': 325, 'temperature': 49.88}, 'Faro': {'day': 115, 'temperature': 49.83}, 'Coimbra': {'day': 5, 'temperature': 49.96}}\n"
     ]
    }
   ],
   "source": [
    "temps_dict = analyze_peak_temperatures(city_temperatures)\n",
    "print(temps_dict)"
   ]
  },
  {
   "cell_type": "code",
   "execution_count": 9,
   "metadata": {},
   "outputs": [],
   "source": [
    "# validate the answer\n",
    "assert temps_dict == {'Lisbon': {'day': 262, 'temperature': 49.4}, 'Porto': {'day': 167, 'temperature': 49.98}, 'Sintra': {'day': 325, 'temperature': 49.88}, 'Faro': {'day': 115, 'temperature': 49.83}, 'Coimbra': {'day': 5, 'temperature': 49.96}}"
   ]
  },
  {
   "cell_type": "markdown",
   "metadata": {},
   "source": [
    "## Ex. 3 -  Salesperson's Performance and Income\n",
    "\n",
    "In a competitive tech company, the sales team is challenged to maximize revenue by selling three key products: smartphones, laptops, and tablets. Each salesperson's performance will be evaluated based on the revenue they generate and the total units they sell.\n",
    "\n",
    "Salespeople who sell more than 100 units receive a higher commission (10%), while those below 100 units receive 5%. Write a function that:\n",
    "\n",
    "* Computes each salesperson's total units sold.\n",
    "* Assigns the correct commission rate.\n",
    "* Computes the total revenue based on product sales and apply the commission.\n",
    "\n",
    "Hint: Consider the `np.where` (https://numpy.org/doc/stable/reference/generated/numpy.where.html) function."
   ]
  },
  {
   "cell_type": "code",
   "execution_count": 10,
   "metadata": {},
   "outputs": [],
   "source": [
    "# Sales data: each row is a salesperson, each column is the number of units sold for a specific product\n",
    "\n",
    "sales_data = np.array([[50, 30, 20],\n",
    "                       [100, 200, 150],\n",
    "                       [70, 40, 30],\n",
    "                       [90, 100, 110]])\n",
    "\n",
    "# Prices of the products\n",
    "prices = np.array([20, 30, 50])"
   ]
  },
  {
   "cell_type": "code",
   "execution_count": 11,
   "metadata": {},
   "outputs": [],
   "source": [
    "def calculate_sales_income(sales_data, prices):\n",
    "    \n",
    "    # Calculate the total units sold by each salesperson\n",
    "    total_units_sold = np.sum(sales_data, axis=1)\n",
    "    \n",
    "    # Assign commission based on total units sold\n",
    "    commissions = np.where(total_units_sold > 100, 0.10, 0.05)\n",
    "    \n",
    "    # Calculate the total revenue for each salesperson (sales * prices)\n",
    "    total_revenue = np.dot(sales_data, prices)\n",
    "    \n",
    "    # Calculate the final income for each salesperson\n",
    "    final_income = total_revenue * (1.0 + commissions)\n",
    "    \n",
    "    return final_income, total_revenue, commissions"
   ]
  },
  {
   "cell_type": "code",
   "execution_count": 12,
   "metadata": {},
   "outputs": [
    {
     "name": "stdout",
     "output_type": "stream",
     "text": [
      "Total revenue for each salesperson:  [ 2900 15500  4100 10300]\n",
      "Commission rates:  [0.05 0.1  0.1  0.1 ]\n",
      "Final income for each salesperson:  [ 3045. 17050.  4510. 11330.]\n"
     ]
    }
   ],
   "source": [
    "\n",
    "final_income, total_revenue, commissions = calculate_sales_income(sales_data, prices)\n",
    "\n",
    "print(\"Total revenue for each salesperson: \", total_revenue)\n",
    "print(\"Commission rates: \", commissions)\n",
    "print(\"Final income for each salesperson: \", final_income)"
   ]
  },
  {
   "cell_type": "code",
   "execution_count": 13,
   "metadata": {},
   "outputs": [],
   "source": [
    "# validate answer\n",
    "assert np.all(total_revenue == np.array([ 2900, 15500,  4100, 10300])), \"Try Again!\"\n",
    "assert np.all(commissions == np.array([0.05, 0.1, 0.1, 0.1])), \"Try Again!\"\n",
    "assert np.all(np.round(final_income) == np.array([ 3045., 17050.,  4510., 11330.])), \"Try Again!\""
   ]
  },
  {
   "cell_type": "code",
   "execution_count": 14,
   "metadata": {},
   "outputs": [],
   "source": [
    "# validate answer\n",
    "assert np.all(total_revenue == np.array([ 2900, 15500,  4100, 10300])), \"Try Again!\"\n",
    "assert np.all(commissions == np.array([0.05, 0.1, 0.1, 0.1])), \"Try Again!\"\n",
    "assert np.all(np.round(final_income) == np.array([ 3045., 17050.,  4510., 11330.])), \"Try Again!\""
   ]
  },
  {
   "cell_type": "markdown",
   "metadata": {},
   "source": [
    "## Ex. 4 - Analyzing Sensor Data for a Space Mission\n",
    "\n",
    "\n",
    "You are a data scientist working for a space agency, and you’ve just received sensor data from a probe exploring a distant planet. The probe is equipped with three sensors that measure different environmental conditions, such as radiation levels, temperature, and atmospheric pressure.\n",
    "\n",
    "The mission control team has tasked you with analyzing the data to find safe areas where the probe can land. Based on the data, safe landing zones must meet the following criteria:\n",
    "\n",
    "* Radiation levels (first sensor) must be below a certain threshold (values greater than 0.5 indicate high radiation and should be avoided).\n",
    "* Temperature (second sensor) must be stable and below a critical point (anything above 0.75 could indicate volatile conditions).\n",
    "\n",
    "Filter the sensor data to find rows that represent safe landing zones, allowing the team to focus on those areas for further exploration. \n",
    "\n",
    "You should use indexing through multiplication to efficiently filter the data based on these two conditions."
   ]
  },
  {
   "cell_type": "code",
   "execution_count": 15,
   "metadata": {},
   "outputs": [],
   "source": [
    "np.random.seed(42)  # For reproducibility\n",
    "sensor_data = np.random.rand(1000, 3)  # Generate 500 random landing zone measurements from 3 sensors"
   ]
  },
  {
   "cell_type": "code",
   "execution_count": 16,
   "metadata": {},
   "outputs": [],
   "source": [
    "# Your code goes here\n",
    "\n",
    "def find_safe_landing_zones(sensor_readings):\n",
    "\n",
    "    radiation_safe = sensor_readings[:, 0] <= 0.5  # Condition for safe radiation levels\n",
    "    temperature_stable = sensor_readings[:, 1] < 0.75  # Condition for stable temperature\n",
    "\n",
    "    safe_zones = radiation_safe * temperature_stable  # Only areas that meet both conditions\n",
    "\n",
    "    safe_landing_zones = sensor_readings[safe_zones == 1]  # Extract rows that satisfy both conditions\n",
    "\n",
    "    return safe_landing_zones\n"
   ]
  },
  {
   "cell_type": "code",
   "execution_count": 17,
   "metadata": {},
   "outputs": [
    {
     "name": "stdout",
     "output_type": "stream",
     "text": [
      "Safe landing zones (filtered sensor data):\n",
      " [[0.18340451 0.30424224 0.52475643]\n",
      " [0.43194502 0.29122914 0.61185289]\n",
      " [0.13949386 0.29214465 0.36636184]\n",
      " ...\n",
      " [0.34534195 0.33561045 0.97852547]\n",
      " [0.38051771 0.16303534 0.78620565]\n",
      " [0.30978786 0.29004553 0.87141403]]\n",
      "Safe landing zones shape:  (355, 3)\n",
      "Number of safe landing zones: 355\n"
     ]
    }
   ],
   "source": [
    "safe_landing_zones = find_safe_landing_zones(sensor_data)\n",
    "print(\"Safe landing zones (filtered sensor data):\\n\", safe_landing_zones)\n",
    "print(\"Safe landing zones shape: \", safe_landing_zones.shape)\n",
    "print(f\"Number of safe landing zones: {safe_landing_zones.shape[0]}\")"
   ]
  },
  {
   "cell_type": "code",
   "execution_count": 18,
   "metadata": {},
   "outputs": [],
   "source": [
    "# validate the answer\n",
    "assert safe_landing_zones.shape == (355, 3), \"Try Again!\"\n",
    "assert len(safe_landing_zones) == 355, \"Try Again!\""
   ]
  }
 ],
 "metadata": {
  "kernelspec": {
   "display_name": "Python 3",
   "language": "python",
   "name": "python3"
  },
  "language_info": {
   "codemirror_mode": {
    "name": "ipython",
    "version": 3
   },
   "file_extension": ".py",
   "mimetype": "text/x-python",
   "name": "python",
   "nbconvert_exporter": "python",
   "pygments_lexer": "ipython3",
   "version": "3.9.19"
  }
 },
 "nbformat": 4,
 "nbformat_minor": 4
}

{
 "cells": [
  {
   "cell_type": "markdown",
   "metadata": {},
   "source": [
    "# NumPy Operations Notebook\n",
    "This notebook demonstrates various basic and advanced operations in NumPy, a powerful numerical computing library in Python."
   ]
  },
  {
   "cell_type": "code",
   "execution_count": 44,
   "metadata": {},
   "outputs": [],
   "source": [
    "# Importing the NumPy library\n",
    "import numpy as np"
   ]
  },
  {
   "cell_type": "markdown",
   "metadata": {},
   "source": [
    "## 0. Why NumPy\n",
    "Faster, more efficient, easier syntax, and allows operations over arrays."
   ]
  },
  {
   "cell_type": "markdown",
   "metadata": {},
   "source": [
    "Element-wise sum example"
   ]
  },
  {
   "cell_type": "code",
   "execution_count": 2,
   "metadata": {},
   "outputs": [
    {
     "name": "stdout",
     "output_type": "stream",
     "text": [
      "[0, 2, 4, 6, 8, 10, 12, 14, 16, 18]\n"
     ]
    }
   ],
   "source": [
    "# Pure Python implementation\n",
    "list1 = [i for i in range(10)]\n",
    "list2 = [i for i in range(10)]\n",
    "\n",
    "# Summing the two lists element-wise\n",
    "result = []\n",
    "for i in range(len(list1)):\n",
    "    result.append(list1[i] + list2[i])\n",
    "\n",
    "# Print the first 10 elements of the result\n",
    "print(result)"
   ]
  },
  {
   "cell_type": "code",
   "execution_count": 3,
   "metadata": {},
   "outputs": [
    {
     "name": "stdout",
     "output_type": "stream",
     "text": [
      "[ 0  2  4  6  8 10 12 14 16 18]\n"
     ]
    }
   ],
   "source": [
    "import numpy as np\n",
    "\n",
    "# Numpy implementation\n",
    "array1 = np.arange(10)\n",
    "array2 = np.arange(10)\n",
    "\n",
    "# Summing the arrays element-wise\n",
    "result = array1 + array2\n",
    "\n",
    "# Print the first 10 elements of the result\n",
    "print(result)"
   ]
  },
  {
   "cell_type": "markdown",
   "metadata": {},
   "source": [
    "Mean Square Error Example"
   ]
  },
  {
   "cell_type": "code",
   "execution_count": 4,
   "metadata": {},
   "outputs": [
    {
     "name": "stdout",
     "output_type": "stream",
     "text": [
      "0.022000000000000037\n"
     ]
    }
   ],
   "source": [
    "# mean squared error in pure python\n",
    "y_true = [1, 2, 3, 4, 5]\n",
    "y_pred = [1.1, 2.1, 2.9, 4.2, 5.2]\n",
    "\n",
    "# Calculate the mean squared error\n",
    "error = sum([(yt - yp) ** 2 for yt, yp in zip(y_true, y_pred)]) / len(y_true)\n",
    "\n",
    "print(error)"
   ]
  },
  {
   "cell_type": "code",
   "execution_count": 5,
   "metadata": {},
   "outputs": [
    {
     "name": "stdout",
     "output_type": "stream",
     "text": [
      "0.022000000000000037\n"
     ]
    }
   ],
   "source": [
    "# mean squared error in numpy\n",
    "y_true = np.array([1, 2, 3, 4, 5])\n",
    "y_pred = np.array([1.1, 2.1, 2.9, 4.2, 5.2])\n",
    "\n",
    "# Calculate the mean squared error\n",
    "error = np.mean((y_true - y_pred) ** 2)\n",
    "\n",
    "print(error)"
   ]
  },
  {
   "cell_type": "markdown",
   "metadata": {},
   "source": [
    "## 1. Creating NumPy Arrays\n",
    "There are several ways to create arrays in NumPy. Let's look at a few methods."
   ]
  },
  {
   "cell_type": "code",
   "execution_count": 6,
   "metadata": {},
   "outputs": [
    {
     "name": "stdout",
     "output_type": "stream",
     "text": [
      "List: [1, 2, 3, 4, 5] <class 'list'>\n",
      "Array: [1 2 3 4 5] <class 'numpy.ndarray'>\n"
     ]
    }
   ],
   "source": [
    "list_data = [1, 2, 3, 4, 5]\n",
    "print(\"List:\", list_data, type(list_data))\n",
    "\n",
    "array_data = np.array(list_data)\n",
    "print(\"Array:\", array_data, type(array_data))"
   ]
  },
  {
   "cell_type": "markdown",
   "metadata": {},
   "source": [
    "### Special Array Creation Functions\n",
    "NumPy also provides functions for creating arrays with specific values, such as zeros, ones, and random numbers."
   ]
  },
  {
   "cell_type": "code",
   "execution_count": 7,
   "metadata": {},
   "outputs": [
    {
     "name": "stdout",
     "output_type": "stream",
     "text": [
      "1D array: [1 2 3 4 5]\n",
      "Array filled with zeros: [0. 0. 0. 0. 0.]\n",
      "Array filled with ones: [1. 1. 1. 1. 1.]\n",
      "Array filled with sevens: [7 7 7 7 7]\n"
     ]
    }
   ],
   "source": [
    "array_1d = np.array([1, 2, 3, 4, 5])  # 1D array\n",
    "\n",
    "array_zeros = np.zeros(5)  # array filled with zeros\n",
    "\n",
    "array_ones = np.ones(5)  # array filled with ones\n",
    "\n",
    "array_sevens = np.full(5, 7)  # array filled with sevens\n",
    "\n",
    "print(\"1D array:\", array_1d)\n",
    "print(\"Array filled with zeros:\", array_zeros)\n",
    "print(\"Array filled with ones:\", array_ones)\n",
    "print(\"Array filled with sevens:\", array_sevens)"
   ]
  },
  {
   "cell_type": "markdown",
   "metadata": {},
   "source": [
    "#### Arrays with Ranges\n",
    "NumPy provides two important functions for creating sequences of numbers: `arange()` and `linspace()`."
   ]
  },
  {
   "cell_type": "code",
   "execution_count": 8,
   "metadata": {},
   "outputs": [
    {
     "name": "stdout",
     "output_type": "stream",
     "text": [
      "Range: [0 1 2 3 4 5 6 7 8 9]\n",
      "Linearly spaced: [ 0.   2.5  5.   7.5 10. ]\n",
      "Random numbers: [0.86149572 0.22874223 0.12036243 0.39113787 0.8313585 ]\n"
     ]
    }
   ],
   "source": [
    "array_range = np.arange(0, 10, 1)  # numbers from 0 to 10 with step 1\n",
    "\n",
    "array_linspace = np.linspace(0, 10, 5) # 5 linearly spaced numbers between 0 and 10\n",
    "\n",
    "array_random = np.random.rand(5)  # 5 random numbers between 0 and 1\n",
    "\n",
    "print(\"Range:\", array_range)\n",
    "print(\"Linearly spaced:\", array_linspace)\n",
    "print(\"Random numbers:\", array_random)"
   ]
  },
  {
   "cell_type": "markdown",
   "metadata": {},
   "source": [
    "## 2. Checking Dimensions\n",
    "Arrays can have multiple sizes (number of elements) dimensions (shape). \n",
    "For example, a 1D array is a vector, a 2D array is a matrix, and a 3D array is a tensor. "
   ]
  },
  {
   "cell_type": "code",
   "execution_count": 9,
   "metadata": {},
   "outputs": [
    {
     "name": "stdout",
     "output_type": "stream",
     "text": [
      "1D array:\n",
      " [ 7  2  9 10]\n",
      "Number of elements in the array: 4\n",
      "Dimensions of the array: 1\n",
      "Shape of the array: (4,)\n"
     ]
    }
   ],
   "source": [
    "# showing the dimensions of an array\n",
    "array = np.array([7, 2, 9, 10])\n",
    "print(\"1D array:\\n\", array)\n",
    "print(\"Number of elements in the array:\", array.size)\n",
    "print(\"Dimensions of the array:\", array.ndim)\n",
    "print(\"Shape of the array:\", array.shape)"
   ]
  },
  {
   "cell_type": "code",
   "execution_count": 10,
   "metadata": {},
   "outputs": [
    {
     "name": "stdout",
     "output_type": "stream",
     "text": [
      "2D array:\n",
      " [[5.2 3.  4.5]\n",
      " [9.1 0.1 0.3]]\n",
      "Number of elements in the array: 6\n",
      "Dimensions of the array: 2\n",
      "Shape of the array: (2, 3)\n"
     ]
    }
   ],
   "source": [
    "array = np.array([[5.2, 3.0, 4.5], [9.1, 0.1, 0.3]])\n",
    "print(\"2D array:\\n\", array)\n",
    "print(\"Number of elements in the array:\", array.size)\n",
    "print(\"Dimensions of the array:\", array.ndim)\n",
    "print(\"Shape of the array:\", array.shape)"
   ]
  },
  {
   "cell_type": "code",
   "execution_count": 11,
   "metadata": {},
   "outputs": [
    {
     "name": "stdout",
     "output_type": "stream",
     "text": [
      "3D array:\n",
      " [[[ 1  2]\n",
      "  [ 3  4]\n",
      "  [ 5  6]]\n",
      "\n",
      " [[ 7  8]\n",
      "  [ 9 10]\n",
      "  [11 12]]\n",
      "\n",
      " [[13 14]\n",
      "  [15 16]\n",
      "  [17 18]]\n",
      "\n",
      " [[19 20]\n",
      "  [21 22]\n",
      "  [23 24]]]\n",
      "Number of elements in the array: 24\n",
      "Dimensions of the array: 3\n",
      "Shape of the array: (4, 3, 2)\n"
     ]
    }
   ],
   "source": [
    "# 3D array\n",
    "array = np.array([[[1, 2], [3, 4], [5, 6]], \n",
    "                  [[7, 8], [9, 10], [11, 12]], \n",
    "                  [[13, 14], [15, 16], [17, 18]], \n",
    "                  [[19, 20], [21, 22], [23, 24]]\n",
    "                  ])\n",
    "print(\"3D array:\\n\", array)\n",
    "print(\"Number of elements in the array:\", array.size)\n",
    "print(\"Dimensions of the array:\", array.ndim)\n",
    "print(\"Shape of the array:\", array.shape)"
   ]
  },
  {
   "cell_type": "markdown",
   "metadata": {},
   "source": [
    "## 3. Array Indexing and Slicing\n",
    "You can access individual elements, or a range of elements (slice) in an array using standard Python indexing."
   ]
  },
  {
   "cell_type": "code",
   "execution_count": 12,
   "metadata": {},
   "outputs": [
    {
     "name": "stdout",
     "output_type": "stream",
     "text": [
      "First element: 1\n",
      "Second element: 2\n",
      "Last element: 5\n"
     ]
    }
   ],
   "source": [
    "# accessing index of each element\n",
    "array_1d = np.array([1, 2, 3, 4, 5])\n",
    "\n",
    "print(\"First element:\", array_1d[0])\n",
    "print(\"Second element:\", array_1d[1])\n",
    "print(\"Last element:\", array_1d[-1])"
   ]
  },
  {
   "cell_type": "markdown",
   "metadata": {},
   "source": [
    "#### Indexing in 2D Arrays\n",
    "In 2D arrays, you can access elements using row and column indices."
   ]
  },
  {
   "cell_type": "code",
   "execution_count": 13,
   "metadata": {},
   "outputs": [
    {
     "name": "stdout",
     "output_type": "stream",
     "text": [
      "First row and second column: 2\n",
      "Last row and first column: 4\n"
     ]
    }
   ],
   "source": [
    "# 2D array\n",
    "array_2d = np.array([[1, 2, 3], \n",
    "                     [4, 5, 6]])\n",
    "\n",
    "print(\"First row and second column:\", array_2d[0, 1])\n",
    "print(\"Last row and first column:\", array_2d[-1, 0])"
   ]
  },
  {
   "cell_type": "markdown",
   "metadata": {},
   "source": [
    "### Array Slicing\n",
    "Slicing is used to get a portion of the array."
   ]
  },
  {
   "cell_type": "code",
   "execution_count": 14,
   "metadata": {},
   "outputs": [
    {
     "name": "stdout",
     "output_type": "stream",
     "text": [
      "array[1:3] -> [2 3]\n",
      "array[:4] -> [1 2 3 4]\n"
     ]
    }
   ],
   "source": [
    "# examples of array slicing in 1D array\n",
    "array = np.array([1, 2, 3, 4, 5])\n",
    "\n",
    "# slice from index 1 to 3 (exclusive)\n",
    "print(\"array[1:3] ->\", array[1:3])\n",
    "\n",
    "# slice from index 0 to 4 (exclusive)\n",
    "print(\"array[:4] ->\", array[:4])"
   ]
  },
  {
   "cell_type": "code",
   "execution_count": 15,
   "metadata": {},
   "outputs": [
    {
     "name": "stdout",
     "output_type": "stream",
     "text": [
      "array[1:] -> [2 3 4 5]\n",
      "array[:] -> [1 2 3 4 5]\n",
      "array[::2] -> [1 3 5]\n"
     ]
    }
   ],
   "source": [
    "# examples of array slicing in 1D array\n",
    "array = np.array([1, 2, 3, 4, 5])\n",
    "\n",
    "# slice from index 1 to the end\n",
    "print(\"array[1:] ->\", array[1:])\n",
    "\n",
    "# slice from the beginning to the end\n",
    "print(\"array[:] ->\", array[:])\n",
    "\n",
    "# slice with a step of 2\n",
    "print(\"array[::2] ->\", array[::2])"
   ]
  },
  {
   "cell_type": "markdown",
   "metadata": {},
   "source": [
    "Slicing a 2D Array"
   ]
  },
  {
   "cell_type": "code",
   "execution_count": 16,
   "metadata": {},
   "outputs": [
    {
     "name": "stdout",
     "output_type": "stream",
     "text": [
      "Original array:\n",
      "[[ 0  1  2  3  4  5]\n",
      " [ 6  7  8  9 10 11]\n",
      " [12 13 14 15 16 17]\n",
      " [18 19 20 21 22 23]\n",
      " [24 25 26 27 28 29]\n",
      " [30 31 32 33 34 35]]\n",
      "\n",
      "Slice array:\n",
      "[3 4]\n",
      "\n",
      "Slice array:\n",
      "[[28 29]\n",
      " [34 35]]\n",
      "\n",
      "Slice array:\n",
      "[ 2  8 14 20 26 32]\n",
      "\n",
      "Slice array:\n",
      "[[12 14 16]\n",
      " [24 26 28]]\n"
     ]
    }
   ],
   "source": [
    "# examples of 6 by 6 array starting from 0\n",
    "array = np.arange(36).reshape(6, 6)\n",
    "\n",
    "print(\"Original array:\")\n",
    "print(array)\n",
    "\n",
    "array_slice = array[0,3:5]  # first row, 4th and 5th columns\n",
    "print(\"\\nSlice array:\")\n",
    "print(array_slice)\n",
    "\n",
    "array_slice = array[4:,4:]  # last two rows, last two columns\n",
    "print(\"\\nSlice array:\")\n",
    "print(array_slice)\n",
    "\n",
    "array_slice = array[:,2]  # all rows, 3rd column\n",
    "print(\"\\nSlice array:\")\n",
    "print(array_slice)\n",
    "\n",
    "array_slice = array[2::2,::2]  # every other row starting from the 3rd row, every other column\n",
    "print(\"\\nSlice array:\")\n",
    "print(array_slice)\n"
   ]
  },
  {
   "cell_type": "markdown",
   "metadata": {},
   "source": [
    "### Exercise: Indexing and Slicing\n",
    "\n",
    "The aim is given guess before running what the result should be for each operation."
   ]
  },
  {
   "cell_type": "code",
   "execution_count": null,
   "metadata": {},
   "outputs": [],
   "source": [
    "arr_1d = np.array([10, 20, 30, 40, 50, 60, 70])\n",
    "\n",
    "# What is the value of arr_1d[2]?\n",
    "# uncomment the next line to get the answer\n",
    "# print(arr_1d[2])"
   ]
  },
  {
   "cell_type": "code",
   "execution_count": null,
   "metadata": {},
   "outputs": [],
   "source": [
    "arr_1d = np.array([10, 20, 30, 40, 50, 60, 70])\n",
    "\n",
    "# What is the value of arr_1d[-1]?\n",
    "# uncomment the next line to get the answer\n",
    "# print(arr_1d[-1])"
   ]
  },
  {
   "cell_type": "code",
   "execution_count": null,
   "metadata": {},
   "outputs": [],
   "source": [
    "arr_1d = np.array([10, 20, 30, 40, 50, 60, 70])\n",
    "\n",
    "# What is the value of arr_1d[1:4]?\n",
    "# uncomment the next line to get the answer\n",
    "# print(arr_1d[1:4])"
   ]
  },
  {
   "cell_type": "code",
   "execution_count": null,
   "metadata": {},
   "outputs": [],
   "source": [
    "arr_1d = np.array([10, 20, 30, 40, 50, 60, 70])\n",
    "\n",
    "# What is the value of arr_1d[::2]?\n",
    "# uncomment the next line to get the answer\n",
    "# print(arr_1d[::2])"
   ]
  },
  {
   "cell_type": "markdown",
   "metadata": {},
   "source": [
    "Now for the 2D case"
   ]
  },
  {
   "cell_type": "code",
   "execution_count": null,
   "metadata": {},
   "outputs": [],
   "source": [
    "arr_2d = np.array([[1, 2, 3],\n",
    "                   [4, 5, 6],\n",
    "                   [7, 8, 9]])\n",
    "\n",
    "# What is the value of arr_2d[1, 2]?\n",
    "# uncomment the next line to get the answer\n",
    "# print(arr_2d[1, 2])"
   ]
  },
  {
   "cell_type": "code",
   "execution_count": null,
   "metadata": {},
   "outputs": [],
   "source": [
    "arr_2d = np.array([[1, 2, 3],\n",
    "                   [4, 5, 6],\n",
    "                   [7, 8, 9]])\n",
    "\n",
    "# What is the value of arr_2d[1, 2]\n",
    "# uncomment the next line to get the answer\n",
    "# print(arr_2d[1, 2])"
   ]
  },
  {
   "cell_type": "code",
   "execution_count": null,
   "metadata": {},
   "outputs": [],
   "source": [
    "arr_2d = np.array([[1, 2, 3],\n",
    "                   [4, 5, 6],\n",
    "                   [7, 8, 9]])\n",
    "\n",
    "# What is the value of arr_2d[:, 0]\n",
    "# uncomment the next line to get the answer\n",
    "# print(arr_2d[:, 0])"
   ]
  },
  {
   "cell_type": "code",
   "execution_count": null,
   "metadata": {},
   "outputs": [],
   "source": [
    "arr_2d = np.array([[1, 2, 3],\n",
    "                   [4, 5, 6],\n",
    "                   [7, 8, 9]])\n",
    "\n",
    "# What is the value of arr_2d[0:2, 1:3]\n",
    "# uncomment the next line to get the answer\n",
    "# print(arr_2d[0:2, 1:3])"
   ]
  },
  {
   "cell_type": "code",
   "execution_count": null,
   "metadata": {},
   "outputs": [],
   "source": [
    "arr_2d = np.array([[1, 2, 3],\n",
    "                   [4, 5, 6],\n",
    "                   [7, 8, 9]])\n",
    "\n",
    "# What is the value of arr_2d[::2, ::2]\n",
    "# uncomment the next line to get the answer\n",
    "# print(arr_2d[::2, ::2])"
   ]
  },
  {
   "cell_type": "markdown",
   "metadata": {},
   "source": [
    "## Data Types\n",
    "Numpy supports various data types such as int, float, str, bool, etc.\n",
    "\n",
    "The default data type is inferred from the input data"
   ]
  },
  {
   "cell_type": "code",
   "execution_count": 58,
   "metadata": {},
   "outputs": [
    {
     "name": "stdout",
     "output_type": "stream",
     "text": [
      "Default data type: int64\n",
      "Default data type: float64\n",
      "Custom data type: float64\n",
      "Custom data type: int32\n",
      "Custom data type: int16\n",
      "Default data type: <U6\n",
      "Default data type: bool\n"
     ]
    }
   ],
   "source": [
    "# examples of various data types\n",
    "array = np.array([1, 2, 3, 4, 5])\n",
    "print(\"Default data type:\", array.dtype)\n",
    "\n",
    "array = np.array([1.1, 2.2, 3.3, 4.4, 5.5])\n",
    "print(\"Default data type:\", array.dtype)\n",
    "\n",
    "array = np.array([1, 2, 3, 4, 5], dtype=np.float64)\n",
    "print(\"Custom data type:\", array.dtype)\n",
    "\n",
    "array = np.array([1, 2, 3, 4, 5], dtype=np.int32)\n",
    "print(\"Custom data type:\", array.dtype)\n",
    "\n",
    "array = np.array([1, 2, 3, 4, 5], dtype=np.int16)\n",
    "print(\"Custom data type:\", array.dtype)\n",
    "\n",
    "# str\n",
    "array = np.array([\"apple\", \"banana\", \"cherry\"])\n",
    "print(\"Default data type:\", array.dtype)\n",
    "\n",
    "# bool\n",
    "array = np.array([True, False, True])\n",
    "print(\"Default data type:\", array.dtype)"
   ]
  },
  {
   "cell_type": "markdown",
   "metadata": {},
   "source": [
    "Conversion to other data types is possilb eusing astype() function."
   ]
  },
  {
   "cell_type": "code",
   "execution_count": 51,
   "metadata": {},
   "outputs": [
    {
     "name": "stdout",
     "output_type": "stream",
     "text": [
      "Original data type: [1 2 3 4 5] int64\n",
      "New data type: [1. 2. 3. 4. 5.] float64\n"
     ]
    }
   ],
   "source": [
    "# converting data types\n",
    "array = np.array([1, 2, 3, 4, 5])\n",
    "print(\"Original data:\", array, array.dtype)\n",
    "\n",
    "# converting from int to float\n",
    "array = array.astype(np.float64)\n",
    "print(\"New data:\", array, array.dtype)"
   ]
  },
  {
   "cell_type": "code",
   "execution_count": 53,
   "metadata": {},
   "outputs": [
    {
     "name": "stdout",
     "output_type": "stream",
     "text": [
      "Original data: [1.1 2.2 3.3 4.4 5.5] float64\n",
      "New data: [1 2 3 4 5] int32\n"
     ]
    }
   ],
   "source": [
    "# converting from float to int\n",
    "array = np.array([1.1, 2.2, 3.3, 4.4, 5.5])\n",
    "print(\"Original data:\", array, array.dtype)\n",
    "\n",
    "array = array.astype(np.int32)\n",
    "print(\"New data:\", array, array.dtype)"
   ]
  },
  {
   "cell_type": "code",
   "execution_count": 54,
   "metadata": {},
   "outputs": [
    {
     "name": "stdout",
     "output_type": "stream",
     "text": [
      "Original data: [1 2 3 4 5] int64\n",
      "New data: ['1' '2' '3' '4' '5'] <U21\n"
     ]
    }
   ],
   "source": [
    "# converting from int to str\n",
    "array = np.array([1, 2, 3, 4, 5])\n",
    "print(\"Original data:\", array, array.dtype)\n",
    "\n",
    "array = array.astype(str)\n",
    "print(\"New data:\", array, array.dtype)"
   ]
  },
  {
   "cell_type": "code",
   "execution_count": 56,
   "metadata": {},
   "outputs": [
    {
     "name": "stdout",
     "output_type": "stream",
     "text": [
      "Result: [ 2.1  4.2  6.3  8.4 10.5] float64\n"
     ]
    }
   ],
   "source": [
    "# int summing with float\n",
    "array_int = np.array([1, 2, 3, 4, 5])\n",
    "array_float = np.array([1.1, 2.2, 3.3, 4.4, 5.5])\n",
    "\n",
    "result = array_int + array_float\n",
    "print(\"Result:\", result, result.dtype)"
   ]
  },
  {
   "cell_type": "markdown",
   "metadata": {},
   "source": [
    "Not all types are interoperable with each other."
   ]
  },
  {
   "cell_type": "code",
   "execution_count": 57,
   "metadata": {},
   "outputs": [
    {
     "ename": "UFuncTypeError",
     "evalue": "ufunc 'add' did not contain a loop with signature matching types (dtype('int64'), dtype('<U1')) -> None",
     "output_type": "error",
     "traceback": [
      "\u001b[0;31m---------------------------------------------------------------------------\u001b[0m",
      "\u001b[0;31mUFuncTypeError\u001b[0m                            Traceback (most recent call last)",
      "Cell \u001b[0;32mIn[57], line 5\u001b[0m\n\u001b[1;32m      2\u001b[0m array_int \u001b[38;5;241m=\u001b[39m np\u001b[38;5;241m.\u001b[39marray([\u001b[38;5;241m1\u001b[39m, \u001b[38;5;241m2\u001b[39m, \u001b[38;5;241m3\u001b[39m, \u001b[38;5;241m4\u001b[39m, \u001b[38;5;241m5\u001b[39m])\n\u001b[1;32m      3\u001b[0m array_str \u001b[38;5;241m=\u001b[39m np\u001b[38;5;241m.\u001b[39marray([\u001b[38;5;124m\"\u001b[39m\u001b[38;5;124m1\u001b[39m\u001b[38;5;124m\"\u001b[39m, \u001b[38;5;124m\"\u001b[39m\u001b[38;5;124m2\u001b[39m\u001b[38;5;124m\"\u001b[39m, \u001b[38;5;124m\"\u001b[39m\u001b[38;5;124m3\u001b[39m\u001b[38;5;124m\"\u001b[39m, \u001b[38;5;124m\"\u001b[39m\u001b[38;5;124m4\u001b[39m\u001b[38;5;124m\"\u001b[39m, \u001b[38;5;124m\"\u001b[39m\u001b[38;5;124m5\u001b[39m\u001b[38;5;124m\"\u001b[39m])\n\u001b[0;32m----> 5\u001b[0m result \u001b[38;5;241m=\u001b[39m \u001b[43marray_int\u001b[49m\u001b[43m \u001b[49m\u001b[38;5;241;43m+\u001b[39;49m\u001b[43m \u001b[49m\u001b[43marray_str\u001b[49m\n\u001b[1;32m      6\u001b[0m \u001b[38;5;28mprint\u001b[39m(\u001b[38;5;124m\"\u001b[39m\u001b[38;5;124mResult:\u001b[39m\u001b[38;5;124m\"\u001b[39m, result, result\u001b[38;5;241m.\u001b[39mdtype)\n",
      "\u001b[0;31mUFuncTypeError\u001b[0m: ufunc 'add' did not contain a loop with signature matching types (dtype('int64'), dtype('<U1')) -> None"
     ]
    }
   ],
   "source": [
    "# int summing with str\n",
    "array_int = np.array([1, 2, 3, 4, 5])\n",
    "array_str = np.array([\"1\", \"2\", \"3\", \"4\", \"5\"])\n",
    "\n",
    "result = array_int + array_str  # this will result in an error!\n",
    "print(\"Result:\", result, result.dtype)   "
   ]
  },
  {
   "cell_type": "markdown",
   "metadata": {},
   "source": [
    "## 4. Basic Operations on Arrays\n",
    "NumPy arrays support element-wise operations, which means you can perform arithmetic operations directly on arrays."
   ]
  },
  {
   "cell_type": "code",
   "execution_count": 17,
   "metadata": {},
   "outputs": [
    {
     "name": "stdout",
     "output_type": "stream",
     "text": [
      "Original Array:\n",
      " [1 2 3 4]\n",
      "\n",
      "Array after adding 10:\n",
      " [11 12 13 14]\n",
      "\n",
      "Array after squaring:\n",
      " [ 1  4  9 16]\n"
     ]
    }
   ],
   "source": [
    "# Element-wise operations\n",
    "arr = np.array([1, 2, 3, 4])\n",
    "arr_sum = arr + 10  # Add 10 to each element\n",
    "arr_square = arr ** 2  # Square each element\n",
    "\n",
    "print(\"Original Array:\\n\", arr)\n",
    "print(\"\\nArray after adding 10:\\n\", arr_sum)\n",
    "print(\"\\nArray after squaring:\\n\", arr_square)"
   ]
  },
  {
   "cell_type": "markdown",
   "metadata": {},
   "source": [
    "Operations involving multiple 1D-arrays"
   ]
  },
  {
   "cell_type": "code",
   "execution_count": 18,
   "metadata": {},
   "outputs": [
    {
     "name": "stdout",
     "output_type": "stream",
     "text": [
      "Array 1: [1 2 3]\n",
      "Array 2: [4 5 6]\n",
      "\n",
      "Addition: [5 7 9]\n",
      "Subtraction: [-3 -3 -3]\n"
     ]
    }
   ],
   "source": [
    "arr1 = np.array([1, 2, 3])\n",
    "arr2 = np.array([4, 5, 6])\n",
    "\n",
    "addition = arr1 + arr2\n",
    "subtraction = arr1 - arr2\n",
    "\n",
    "print(\"Array 1:\", arr1)\n",
    "print(\"Array 2:\", arr2)\n",
    "print(\"\\nAddition:\", addition)\n",
    "print(\"Subtraction:\", subtraction)"
   ]
  },
  {
   "cell_type": "code",
   "execution_count": 19,
   "metadata": {},
   "outputs": [
    {
     "name": "stdout",
     "output_type": "stream",
     "text": [
      "Array 1: [1 2 3]\n",
      "Array 2: [4 5 6]\n",
      "Mult: [ 4 10 18]\n",
      "Division: [0.25 0.4  0.5 ]\n"
     ]
    }
   ],
   "source": [
    "arr1 = np.array([1, 2, 3])\n",
    "arr2 = np.array([4, 5, 6])\n",
    "\n",
    "mult = arr1 * arr2\n",
    "division = arr1 / arr2\n",
    "\n",
    "print(\"Array 1:\", arr1)\n",
    "print(\"Array 2:\", arr2)\n",
    "print(\"Mult:\", mult)\n",
    "print(\"Division:\", division)"
   ]
  },
  {
   "cell_type": "markdown",
   "metadata": {},
   "source": [
    "Operations involing 2D-arrays"
   ]
  },
  {
   "cell_type": "code",
   "execution_count": 20,
   "metadata": {},
   "outputs": [
    {
     "name": "stdout",
     "output_type": "stream",
     "text": [
      "Original Array:\n",
      " [[1 2]\n",
      " [3 4]]\n",
      "\n",
      "Array after adding 10:\n",
      " [[11 12]\n",
      " [13 14]]\n"
     ]
    }
   ],
   "source": [
    "# element-wise operations with 2D arrays\n",
    "arr = np.array([[1, 2], [3, 4]])\n",
    "arr_sum = arr + 10  # Add 10 to each element\n",
    "\n",
    "print(\"Original Array:\\n\", arr)\n",
    "print(\"\\nArray after adding 10:\\n\", arr_sum)"
   ]
  },
  {
   "cell_type": "code",
   "execution_count": 21,
   "metadata": {},
   "outputs": [
    {
     "name": "stdout",
     "output_type": "stream",
     "text": [
      "Array 1:\n",
      " [[1 2]\n",
      " [3 4]]\n",
      "Array 2:\n",
      " [[5 6]\n",
      " [7 8]]\n",
      "\n",
      "Addition:\n",
      " [[ 6  8]\n",
      " [10 12]]\n",
      "Subtraction:\n",
      " [[-4 -4]\n",
      " [-4 -4]]\n"
     ]
    }
   ],
   "source": [
    "# element-wise operations with 2D arrays\n",
    "arr1 = np.array([[1, 2], [3, 4]])\n",
    "arr2 = np.array([[5, 6], [7, 8]])\n",
    "\n",
    "addition = arr1 + arr2\n",
    "subtraction = arr1 - arr2\n",
    "\n",
    "print(\"Array 1:\\n\", arr1)\n",
    "print(\"Array 2:\\n\", arr2)\n",
    "print(\"\\nAddition:\\n\", addition)\n",
    "print(\"Subtraction:\\n\", subtraction)\n"
   ]
  },
  {
   "cell_type": "code",
   "execution_count": 22,
   "metadata": {},
   "outputs": [
    {
     "name": "stdout",
     "output_type": "stream",
     "text": [
      "Array 1:\n",
      " [[1 2]\n",
      " [3 4]]\n",
      "Array 2:\n",
      " [[5 6]\n",
      " [7 8]]\n",
      "\n",
      "Mult:\n",
      " [[ 5 12]\n",
      " [21 32]]\n",
      "Division:\n",
      " [[0.2        0.33333333]\n",
      " [0.42857143 0.5       ]]\n"
     ]
    }
   ],
   "source": [
    "# element-wise operations with 2D arrays\n",
    "arr1 = np.array([[1, 2], [3, 4]])\n",
    "arr2 = np.array([[5, 6], [7, 8]])\n",
    "\n",
    "mult = arr1 * arr2\n",
    "division = arr1 / arr2\n",
    "\n",
    "print(\"Array 1:\\n\", arr1)\n",
    "print(\"Array 2:\\n\", arr2)\n",
    "print(\"\\nMult:\\n\", mult)\n",
    "print(\"Division:\\n\", division)"
   ]
  },
  {
   "cell_type": "markdown",
   "metadata": {},
   "source": [
    "## 5. Aggregation Functions\n",
    "NumPy provides various functions to compute aggregate values, such as `sum()`, `mean()`, `max()`, `min()`."
   ]
  },
  {
   "cell_type": "code",
   "execution_count": 23,
   "metadata": {},
   "outputs": [
    {
     "name": "stdout",
     "output_type": "stream",
     "text": [
      "Array:\n",
      " [[1 2 3]\n",
      " [4 5 6]]\n",
      "Total sum of array elements: 21\n",
      "Column-wise sum: [5 7 9]\n",
      "Minimum value in array: 1\n",
      "Index of minimum value: 0\n",
      "Maximum value in array: 6\n",
      "Index of maximum value: 5\n"
     ]
    }
   ],
   "source": [
    "# Aggregation functions\n",
    "arr = np.array([[1, 2, 3], [4, 5, 6]])\n",
    "total_sum = np.sum(arr)  # Sum of all elements\n",
    "column_sum = np.sum(arr, axis=0)  # Sum along columns\n",
    "min_value = np.min(arr)  # Minimum value in the array\n",
    "arg_min = np.argmin(arr)  # Index of minimum value\n",
    "max_value = np.max(arr)  # Maximum value in the array\n",
    "arg_max = np.argmax(arr)  # Index of maximum value\n",
    "\n",
    "print(\"Array:\\n\", arr)\n",
    "print(\"Total sum of array elements:\", total_sum)\n",
    "print(\"Column-wise sum:\", column_sum)\n",
    "print(\"Minimum value in array:\", min_value)\n",
    "print(\"Index of minimum value:\", arg_min)\n",
    "print(\"Maximum value in array:\", max_value)\n",
    "print(\"Index of maximum value:\", arg_max)"
   ]
  },
  {
   "cell_type": "code",
   "execution_count": 24,
   "metadata": {},
   "outputs": [
    {
     "name": "stdout",
     "output_type": "stream",
     "text": [
      "Array:\n",
      " [[1 2 3]\n",
      " [4 5 6]]\n",
      "Mean of array elements: 3.5\n",
      "Mean along columns: [2.5 3.5 4.5]\n",
      "Median of array elements: 3.5\n",
      "Standard deviation of array elements: 1.708\n"
     ]
    }
   ],
   "source": [
    "# Aggregation functions\n",
    "arr = np.array([[1, 2, 3], [4, 5, 6]])\n",
    "mean_value = np.mean(arr)  # Mean of all elements\n",
    "median_value = np.median(arr)  # Median of all elements\n",
    "mean = np.mean(arr, axis=0)  # Mean along columns\n",
    "std_value = np.std(arr)  # Standard deviation of all elements\n",
    "\n",
    "print(\"Array:\\n\", arr)\n",
    "print(\"Mean of array elements:\", mean_value)\n",
    "print(\"Mean along columns:\", mean)\n",
    "print(\"Median of array elements:\", median_value)\n",
    "print(\"Standard deviation of array elements:\", round(std_value, 3))"
   ]
  },
  {
   "cell_type": "markdown",
   "metadata": {},
   "source": [
    "## 6. Boolean Masking and Conditional Selection\n",
    "You can apply conditions to arrays and use them to select specific elements using boolean masks."
   ]
  },
  {
   "cell_type": "code",
   "execution_count": 25,
   "metadata": {},
   "outputs": [
    {
     "name": "stdout",
     "output_type": "stream",
     "text": [
      "Original array:\n",
      " [10 20 30 40 50]\n",
      "\n",
      "Boolean mask (arr > 30):\n",
      " [False False False  True  True]\n",
      "\n",
      "Selected elements (arr[mask]):\n",
      " [40 50]\n"
     ]
    }
   ],
   "source": [
    "# Boolean masking and conditional selection\n",
    "arr = np.array([10, 20, 30, 40, 50])\n",
    "mask = arr > 30  # Create a boolean mask where values are greater than 30\n",
    "selected_elements = arr[mask]  # Use the mask to select elements\n",
    "\n",
    "print(\"Original array:\\n\", arr)\n",
    "print(\"\\nBoolean mask (arr > 30):\\n\", mask)\n",
    "print(\"\\nSelected elements (arr[mask]):\\n\", selected_elements)"
   ]
  },
  {
   "cell_type": "code",
   "execution_count": 26,
   "metadata": {},
   "outputs": [
    {
     "name": "stdout",
     "output_type": "stream",
     "text": [
      "Original array:\n",
      " [10 20 30 40 50]\n",
      "\n",
      "Selected elements (arr > 30):\n",
      " (array([3, 4]),)\n",
      "\n",
      "Selected elements:\n",
      " [40 50]\n"
     ]
    }
   ],
   "source": [
    "# using np.where() to select elements based on condition\n",
    "arr = np.array([10, 20, 30, 40, 50])\n",
    "selected_elements = np.where(arr > 30)  # Select elements where value > 30\n",
    "\n",
    "print(\"Original array:\\n\", arr)\n",
    "print(\"\\nSelected elements (arr > 30):\\n\", selected_elements)\n",
    "print(\"\\nSelected elements:\\n\", arr[selected_elements])"
   ]
  },
  {
   "cell_type": "markdown",
   "metadata": {},
   "source": [
    "Using multiple conditions for filtering "
   ]
  },
  {
   "cell_type": "code",
   "execution_count": 27,
   "metadata": {},
   "outputs": [
    {
     "name": "stdout",
     "output_type": "stream",
     "text": [
      "Original array:\n",
      " [10 20 30 40 50]\n",
      "\n",
      "Selected elements (20 < arr < 50):\n",
      " [30 40]\n",
      "\n",
      "Selected elements (arr < 20 or arr > 40):\n",
      " [10 50]\n"
     ]
    }
   ],
   "source": [
    "# chaining multiple conditions\n",
    "arr = np.array([10, 20, 30, 40, 50])\n",
    "# Select elements where 20 < value < 50\n",
    "selected_elements = arr[(arr > 20) & (arr < 50)]\n",
    "\n",
    "print(\"Original array:\\n\", arr)\n",
    "print(\"\\nSelected elements (20 < arr < 50):\\n\", selected_elements)\n",
    "\n",
    "# logical or operation\n",
    "# Select elements where value < 20 or value > 40\n",
    "selected_elements = arr[(arr < 20) | (arr > 40)]\n",
    "print(\"\\nSelected elements (arr < 20 or arr > 40):\\n\", selected_elements)"
   ]
  },
  {
   "cell_type": "markdown",
   "metadata": {},
   "source": [
    "## 7. Sorting\n",
    "Sorting is used to put elements in a certain order."
   ]
  },
  {
   "cell_type": "code",
   "execution_count": 28,
   "metadata": {},
   "outputs": [
    {
     "name": "stdout",
     "output_type": "stream",
     "text": [
      "Original array: [3 1 2 4 5]\n",
      "Sorted array: [1 2 3 4 5]\n"
     ]
    }
   ],
   "source": [
    "# example of sorting\n",
    "array = np.array([3, 1, 2, 4, 5])\n",
    "\n",
    "# Sort the array\n",
    "sorted_array = np.sort(array)\n",
    "print(\"Original array:\", array)\n",
    "print(\"Sorted array:\", sorted_array)"
   ]
  },
  {
   "cell_type": "markdown",
   "metadata": {},
   "source": [
    "In 2D arrays it sorts by the index passed."
   ]
  },
  {
   "cell_type": "code",
   "execution_count": 29,
   "metadata": {},
   "outputs": [
    {
     "name": "stdout",
     "output_type": "stream",
     "text": [
      "Original array:\n",
      " [[3 4 5]\n",
      " [1 3 2]]\n",
      "Sorted array along the rows:\n",
      " [[1 3 2]\n",
      " [3 4 5]]\n",
      "Sorted array along the columns:\n",
      " [[3 4 5]\n",
      " [1 2 3]]\n"
     ]
    }
   ],
   "source": [
    "# example of sorting a 2D array\n",
    "array = np.array([[3, 4, 5], [1, 3, 2]])\n",
    "\n",
    "# Sort the array along the rows\n",
    "sorted_array_rows = np.sort(array, axis=0)\n",
    "print(\"Original array:\\n\", array)\n",
    "print(\"Sorted array along the rows:\\n\", sorted_array_rows)\n",
    "\n",
    "# Sort the array along the columns\n",
    "sorted_array_columns = np.sort(array, axis=1)\n",
    "print(\"Sorted array along the columns:\\n\", sorted_array_columns)"
   ]
  },
  {
   "cell_type": "code",
   "execution_count": 30,
   "metadata": {},
   "outputs": [
    {
     "name": "stdout",
     "output_type": "stream",
     "text": [
      "Original array: [3 1 2 4 5]\n",
      "Indices of sorted array: [1 2 0 3 4]\n",
      "Sorted array: [1 2 3 4 5]\n"
     ]
    }
   ],
   "source": [
    "# argsort() function\n",
    "array = np.array([3, 1, 2, 4, 5])\n",
    "\n",
    "# Get the indices that would sort the array\n",
    "indices = np.argsort(array)\n",
    "print(\"Original array:\", array)\n",
    "print(\"Indices of sorted array:\", indices)\n",
    "\n",
    "# sort using the indices\n",
    "sorted_array = array[indices]\n",
    "print(\"Sorted array:\", sorted_array)"
   ]
  },
  {
   "cell_type": "markdown",
   "metadata": {},
   "source": [
    "## Exercise - The Students\n",
    "You have the data of a class of students in two arrays: one for their ages and one for their heights. Use NumPy to answer the following questions and perform some filtering operations.\n",
    "\n",
    "**Tasks:**\n",
    "1. **Average Age and Height:** Calculate the average (mean) age and height of the students.\n",
    "2. **Filter by Height:** Find the students who are taller than 165 cm and print their ages.\n",
    "3. **Standard Deviation:** Calculate the standard deviation of the ages and heights.\n",
    "4. **Students within Range:** Find the students whose ages are between 15 and 17 (inclusive) and their heights.\n",
    "5. **Tallest Student:** Find the age and height of the tallest student.\n",
    "6. **Sort by Height:** Sort the students by their heights in ascending order and print their corresponding \n",
    "ages.\n",
    "\n",
    "**Hints:**\n",
    "\n",
    "Use the functions presented earlier such as: mean, argmax std and sort. \n",
    "\n",
    "Also use operations such multiple condition filtering, and selection through masks."
   ]
  },
  {
   "cell_type": "code",
   "execution_count": 60,
   "metadata": {},
   "outputs": [],
   "source": [
    "# Student Data\n",
    "ages = np.array([15, 16, 14, 15, 16, 17, 15, 14, 16, 15])\n",
    "heights = np.array([160, 165, 158, 162, 170, 175, 161, 159, 168, 163])"
   ]
  },
  {
   "cell_type": "code",
   "execution_count": 65,
   "metadata": {},
   "outputs": [
    {
     "name": "stdout",
     "output_type": "stream",
     "text": [
      "Mean age: 15.3\n",
      "Mean height: 164.1\n"
     ]
    }
   ],
   "source": [
    "# 1: Calculate the mean age and height\n",
    "pass"
   ]
  },
  {
   "cell_type": "code",
   "execution_count": 66,
   "metadata": {},
   "outputs": [
    {
     "name": "stdout",
     "output_type": "stream",
     "text": [
      "Ages of students taller than 165 cm: [16 17 16]\n"
     ]
    }
   ],
   "source": [
    "# 2. Find the students who are taller than 165 cm and print their ages.\n",
    "pass"
   ]
  },
  {
   "cell_type": "code",
   "execution_count": 67,
   "metadata": {},
   "outputs": [
    {
     "name": "stdout",
     "output_type": "stream",
     "text": [
      "Standard deviation of ages: 0.9\n",
      "Standard deviation of heights: 5.15\n"
     ]
    }
   ],
   "source": [
    "# 3. Calculate the standard deviation of the ages and heights.\n",
    "pass"
   ]
  },
  {
   "cell_type": "code",
   "execution_count": 88,
   "metadata": {},
   "outputs": [],
   "source": [
    "# 4. Find students aged between 15 and 17 and their heights\n",
    "pass"
   ]
  },
  {
   "cell_type": "code",
   "execution_count": 69,
   "metadata": {},
   "outputs": [
    {
     "name": "stdout",
     "output_type": "stream",
     "text": [
      "Tallest Student Age: 17\n",
      "Tallest Student Height: 175\n"
     ]
    }
   ],
   "source": [
    "# 5. Find the age and height of the tallest student\n",
    "pass"
   ]
  },
  {
   "cell_type": "code",
   "execution_count": 70,
   "metadata": {},
   "outputs": [
    {
     "name": "stdout",
     "output_type": "stream",
     "text": [
      "Heights in ascending order: [158 159 160 161 162 163 165 168 170 175]\n",
      "Corresponding ages in ascending height order: [14 14 15 15 15 15 16 16 16 17]\n"
     ]
    }
   ],
   "source": [
    "# 6. Sort the students by their heights and print their corresponding ages\n",
    "pass"
   ]
  },
  {
   "cell_type": "markdown",
   "metadata": {},
   "source": [
    "**New task 7:**\n",
    "\n",
    "Calculate the BMI (Body Mass Index) for each student given the new information about their weights.\n",
    "\n",
    "BMI=(weight in kg/(height in meters/100)^2)\n",
    "\n",
    "And then print the weights, heights, and ages that are not in the regular range of 18.5 and 24.9."
   ]
  },
  {
   "cell_type": "code",
   "execution_count": 86,
   "metadata": {},
   "outputs": [
    {
     "name": "stdout",
     "output_type": "stream",
     "text": [
      "BMI of students: [19.53 20.2  18.03 18.29 20.76 23.51 19.68 18.59 23.03 19.57]\n",
      "BMI mask: [False False  True  True False False False False False False]\n",
      "Weights of students with BMI less than 18.5 or greater than 24.9: [45 48]\n",
      "Heights of students with BMI less than 18.5 or greater than 24.9: [158 162]\n",
      "Ages of students with BMI less than 18.5 or greater than 24.9: [14 15]\n"
     ]
    }
   ],
   "source": [
    "weights = np.array([50, 55, 45, 48, 60, 72, 51, 47, 65, 52])\n",
    "\n",
    "# calculate the BMI of each student -> element-wise operations\n",
    "pass\n",
    "\n",
    "# Find students with BMI less than 18.5 or greater than 24.9 -> filtering with multiple conditions\n",
    "pass\n",
    "\n",
    "# weights, heights, and ages of students in regular range -> filtering using a mask\n",
    "pass"
   ]
  },
  {
   "cell_type": "markdown",
   "metadata": {},
   "source": [
    "## 7. Reshaping and Transposing Arrays\n",
    "You can change the shape of an array using the `reshape()` function, and transpose arrays using the `T` attribute."
   ]
  },
  {
   "cell_type": "code",
   "execution_count": 31,
   "metadata": {},
   "outputs": [
    {
     "name": "stdout",
     "output_type": "stream",
     "text": [
      "Original 2D array:\n",
      " [[1 2 3]\n",
      " [4 5 6]\n",
      " [7 8 9]]\n",
      "\n",
      "Flattened array:\n",
      " [1 2 3 4 5 6 7 8 9]\n"
     ]
    }
   ],
   "source": [
    "# flattening a 2D array\n",
    "arr2d = np.array([[1, 2, 3], [4, 5, 6], [7, 8, 9]])\n",
    "flattened_arr = arr2d.flatten()\n",
    "\n",
    "print(\"Original 2D array:\\n\", arr2d)\n",
    "print(\"\\nFlattened array:\\n\", flattened_arr)"
   ]
  },
  {
   "cell_type": "code",
   "execution_count": 32,
   "metadata": {},
   "outputs": [
    {
     "name": "stdout",
     "output_type": "stream",
     "text": [
      "Original array:\n",
      " [[1 2 3]\n",
      " [4 5 6]]\n",
      "\n",
      "Reshaped array (3x2):\n",
      " [[1 2]\n",
      " [3 4]\n",
      " [5 6]]\n"
     ]
    }
   ],
   "source": [
    "# Reshaping\n",
    "arr = np.array([[1, 2, 3], [4, 5, 6]])\n",
    "reshaped = arr.reshape(3, 2)  # Reshape 2x3 array to 3x2\n",
    "\n",
    "print(\"Original array:\\n\", arr)\n",
    "print(\"\\nReshaped array (3x2):\\n\", reshaped)"
   ]
  },
  {
   "cell_type": "code",
   "execution_count": 33,
   "metadata": {},
   "outputs": [
    {
     "name": "stdout",
     "output_type": "stream",
     "text": [
      "Original array:\n",
      " [[1 2 3]\n",
      " [4 5 6]]\n",
      "Shape of original array: (2, 3)\n",
      "\n",
      "Transposed array:\n",
      " [[1 4]\n",
      " [2 5]\n",
      " [3 6]]\n",
      "Shape of transposed array: (3, 2)\n"
     ]
    }
   ],
   "source": [
    "# Transposing arrays\n",
    "arr = np.array([[1, 2, 3], \n",
    "                [4, 5, 6]])\n",
    "transposed = arr.T  # Transpose the array\n",
    "\n",
    "print(\"Original array:\\n\", arr)\n",
    "print(\"Shape of original array:\", arr.shape)\n",
    "print(\"\\nTransposed array:\\n\", transposed)\n",
    "print(\"Shape of transposed array:\", transposed.shape)\n",
    "\n",
    "# other way to transpose\n",
    "arr = np.array([[1, 2, 3], \n",
    "                [4, 5, 6]])\n",
    "\n",
    "arr_transpose = np.transpose(arr)\n"
   ]
  },
  {
   "cell_type": "markdown",
   "metadata": {},
   "source": [
    "## 8. Broadcasting\n",
    "Broadcasting allows you to perform element-wise operations on arrays of different shapes."
   ]
  },
  {
   "cell_type": "code",
   "execution_count": 34,
   "metadata": {},
   "outputs": [
    {
     "name": "stdout",
     "output_type": "stream",
     "text": [
      "Original array:\n",
      " [[1 2 3]\n",
      " [4 5 6]]\n",
      "\n",
      "Vector:\n",
      " [1 2 3]\n",
      "\n",
      "Array after broadcasting:\n",
      " [[2 4 6]\n",
      " [5 7 9]]\n"
     ]
    }
   ],
   "source": [
    "# Broadcasting example\n",
    "arr = np.array([[1, 2, 3], [4, 5, 6]])\n",
    "vector = np.array([1, 2, 3])\n",
    "broadcasted_sum = arr + vector  # Adds vector to each row of arr\n",
    "\n",
    "print(\"Original array:\\n\", arr)\n",
    "print(\"\\nVector:\\n\", vector)\n",
    "print(\"\\nArray after broadcasting:\\n\", broadcasted_sum)"
   ]
  },
  {
   "cell_type": "markdown",
   "metadata": {},
   "source": [
    "## 9. Stacking and Concatenating Arrays\n",
    "You can stack arrays vertically (`vstack()`) or horizontally (`hstack()`), as well as concatenate them using `concatenate()`."
   ]
  },
  {
   "cell_type": "code",
   "execution_count": 35,
   "metadata": {},
   "outputs": [
    {
     "name": "stdout",
     "output_type": "stream",
     "text": [
      "Array 1:\n",
      " [1 2 3]\n",
      "\n",
      "Array 2:\n",
      " [4 5 6]\n",
      "\n",
      "Vertically stacked:\n",
      " [[1 2 3]\n",
      " [4 5 6]]\n"
     ]
    }
   ],
   "source": [
    "# Stacking and concatenating arrays\n",
    "arr1 = np.array([1, 2, 3])\n",
    "arr2 = np.array([4, 5, 6])\n",
    "vertical_stack = np.vstack((arr1, arr2))  # Stack arrays vertically\n",
    "\n",
    "print(\"Array 1:\\n\", arr1)\n",
    "print(\"\\nArray 2:\\n\", arr2)\n",
    "print(\"\\nVertically stacked:\\n\", vertical_stack)"
   ]
  },
  {
   "cell_type": "code",
   "execution_count": 36,
   "metadata": {},
   "outputs": [
    {
     "name": "stdout",
     "output_type": "stream",
     "text": [
      "Array 1:\n",
      " [1 2 3]\n",
      "\n",
      "Array 2:\n",
      " [4 5 6]\n",
      "\n",
      "Horizontally stacked:\n",
      " [1 2 3 4 5 6]\n"
     ]
    }
   ],
   "source": [
    "# Stacking and concatenating arrays\n",
    "arr1 = np.array([1, 2, 3])\n",
    "arr2 = np.array([4, 5, 6])\n",
    "horizontal_stack = np.hstack((arr1, arr2))  # Stack arrays horizontally\n",
    "\n",
    "print(\"Array 1:\\n\", arr1)\n",
    "print(\"\\nArray 2:\\n\", arr2)\n",
    "print(\"\\nHorizontally stacked:\\n\", horizontal_stack)"
   ]
  },
  {
   "cell_type": "markdown",
   "metadata": {},
   "source": [
    "## 10. Dot Product"
   ]
  },
  {
   "cell_type": "code",
   "execution_count": 37,
   "metadata": {},
   "outputs": [
    {
     "name": "stdout",
     "output_type": "stream",
     "text": [
      "Array 1: [1 2 3]\n",
      "Array 2: [4 5 6]\n",
      "\n",
      "Dot product: 32\n"
     ]
    }
   ],
   "source": [
    "# dot product of two 1d arrays\n",
    "arr1 = np.array([1, 2, 3])\n",
    "arr2 = np.array([4, 5, 6])\n",
    "\n",
    "dot_product = np.dot(arr1, arr2)\n",
    "\n",
    "print(\"Array 1:\", arr1)\n",
    "print(\"Array 2:\", arr2)\n",
    "print(\"\\nDot product:\", dot_product)"
   ]
  },
  {
   "cell_type": "code",
   "execution_count": 38,
   "metadata": {},
   "outputs": [
    {
     "name": "stdout",
     "output_type": "stream",
     "text": [
      "Array 1:\n",
      " [[1 2]\n",
      " [3 4]]\n",
      "\n",
      "Array 2:\n",
      " [[5 6]\n",
      " [7 8]]\n",
      "\n",
      "Dot product of the two arrays:\n",
      " [[19 22]\n",
      " [43 50]]\n"
     ]
    }
   ],
   "source": [
    "# numpy dot product of two arrays\n",
    "arr1 = np.array([[1, 2], [3, 4]])\n",
    "arr2 = np.array([[5, 6], [7, 8]])\n",
    "\n",
    "dot_product = np.dot(arr1, arr2)\n",
    "\n",
    "print(\"Array 1:\\n\", arr1)\n",
    "print(\"\\nArray 2:\\n\", arr2)\n",
    "print(\"\\nDot product of the two arrays:\\n\", dot_product)"
   ]
  },
  {
   "cell_type": "markdown",
   "metadata": {},
   "source": [
    "Dot product of matrices is not cummutative"
   ]
  },
  {
   "cell_type": "code",
   "execution_count": 39,
   "metadata": {},
   "outputs": [
    {
     "name": "stdout",
     "output_type": "stream",
     "text": [
      "Array 1:\n",
      " [[1 2]\n",
      " [3 4]]\n",
      "\n",
      "Array 2:\n",
      " [[5 6]\n",
      " [7 8]]\n",
      "\n",
      "Dot product of the two arrays:\n",
      " [[23 34]\n",
      " [31 46]]\n"
     ]
    }
   ],
   "source": [
    "# numpy dot product of two arrays\n",
    "arr1 = np.array([[1, 2], [3, 4]])\n",
    "arr2 = np.array([[5, 6], [7, 8]])\n",
    "\n",
    "dot_product = np.dot(arr2, arr1)\n",
    "\n",
    "print(\"Array 1:\\n\", arr1)\n",
    "print(\"\\nArray 2:\\n\", arr2)\n",
    "print(\"\\nDot product of the two arrays:\\n\", dot_product)"
   ]
  },
  {
   "cell_type": "markdown",
   "metadata": {},
   "source": [
    "## 11. Handling Missing Values\n",
    "There are instances where there might be values missing.\n",
    "\n",
    "In computing, NaN (Not a Number) is a value used to represent a numeric value that is undefined or unrepresentable."
   ]
  },
  {
   "cell_type": "code",
   "execution_count": 40,
   "metadata": {},
   "outputs": [
    {
     "name": "stdout",
     "output_type": "stream",
     "text": [
      "Array with NaN:\n",
      " [ 1. nan  3.  4.]\n"
     ]
    }
   ],
   "source": [
    "# handling nans\n",
    "arr = np.array([1, np.nan, 3, 4])\n",
    "print(\"Array with NaN:\\n\", arr)"
   ]
  },
  {
   "cell_type": "code",
   "execution_count": 41,
   "metadata": {},
   "outputs": [
    {
     "name": "stdout",
     "output_type": "stream",
     "text": [
      "Array with NaN:\n",
      " [ 1. nan  3.  4.]\n",
      "\n",
      "Indices of NaN values: [False  True False False]\n",
      "Array with NaN replaced by 0:\n",
      " [1. 0. 3. 4.]\n"
     ]
    }
   ],
   "source": [
    "# handling nans\n",
    "arr = np.array([1, np.nan, 3, 4])\n",
    "nan_index = np.isnan(arr)  # Find indices of NaN values\n",
    "\n",
    "print(\"Array with NaN:\\n\", arr)\n",
    "print(\"\\nIndices of NaN values:\", nan_index)\n",
    "\n",
    "# handling nans\n",
    "arr = np.array([1, np.nan, 3, 4])\n",
    "arr[nan_index] = 0  # Replace NaN values with 0\n",
    "\n",
    "print(\"Array with NaN replaced by 0:\\n\", arr)"
   ]
  },
  {
   "cell_type": "code",
   "execution_count": 42,
   "metadata": {},
   "outputs": [
    {
     "name": "stdout",
     "output_type": "stream",
     "text": [
      "Array with NaN:\n",
      " [ 1. nan  3.  4.]\n",
      "\n",
      "Array with NaN replaced by 0:\n",
      " [1. 0. 3. 4.]\n"
     ]
    }
   ],
   "source": [
    "# handling nans\n",
    "arr = np.array([1, np.nan, 3, 4])\n",
    "\n",
    "arr_filled = np.nan_to_num(arr)  # Replace NaN values with 0\n",
    "\n",
    "print(\"Array with NaN:\\n\", arr)\n",
    "\n",
    "print(\"\\nArray with NaN replaced by 0:\\n\", arr_filled)"
   ]
  },
  {
   "cell_type": "code",
   "execution_count": 43,
   "metadata": {},
   "outputs": [
    {
     "name": "stdout",
     "output_type": "stream",
     "text": [
      "Array with NaN:\n",
      " [ 1. nan  3.  4.]\n",
      "\n",
      "Array without NaN values: [1. 3. 4.]\n"
     ]
    }
   ],
   "source": [
    "# handling nans\n",
    "arr = np.array([1, np.nan, 3, 4])\n",
    "\n",
    "arr_without_nan = arr[~np.isnan(arr)]  # Remove NaN values from array\n",
    "\n",
    "print(\"Array with NaN:\\n\", arr)\n",
    "\n",
    "print(\"\\nArray without NaN values:\", arr_without_nan)"
   ]
  },
  {
   "cell_type": "markdown",
   "metadata": {},
   "source": [
    "## 12. Conclusion\n",
    "This notebook demonstrated a variety of NumPy operations.\n",
    "\n",
    "NumPy's powerful array handling and vectorized operations make it an essential library for numerical computing in Python."
   ]
  }
 ],
 "metadata": {
  "kernelspec": {
   "display_name": "Python 3",
   "language": "python",
   "name": "python3"
  },
  "language_info": {
   "codemirror_mode": {
    "name": "ipython",
    "version": 3
   },
   "file_extension": ".py",
   "mimetype": "text/x-python",
   "name": "python",
   "nbconvert_exporter": "python",
   "pygments_lexer": "ipython3",
   "version": "3.9.19"
  }
 },
 "nbformat": 4,
 "nbformat_minor": 4
}

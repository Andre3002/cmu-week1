{
 "cells": [
  {
   "cell_type": "markdown",
   "metadata": {},
   "source": [
    "# Foundations of Data Science - CMU Portugal Academy\n",
    "\n",
    "> In this first lab, we will do a set of Python programming exercises. The goal of this lab session is for you to practice the topics we've covered. \n",
    "> \n",
    "> Instructors:\n",
    ">   - David Semedo (df.semedo@fct.unl.pt)\n",
    ">   - Rafael Ferreira (rah.ferreira@fct.unl.pt)\n",
    "> "
   ]
  },
  {
   "cell_type": "markdown",
   "metadata": {},
   "source": [
    "## Ex. 1 - Driver's License Elibibility (Conditional Statements and Functions)\n",
    "\n",
    "Create a Python function that checks whether a person is eligible to apply for a driver's license based on their age and vision test score.\n",
    "\n",
    "\n",
    "The function will take three inputs:\n",
    "* age: The person’s age.\n",
    "* vision_score: The person’s vision test score (between 0 and 100).\n",
    "* Previous Accidents: The person must have had fewer than 3 previous accidents.\n",
    "\n",
    "Use conditional statements to determine:\n",
    "1. If the person is under 18 or over 89, print: `\"Not eligible: Age requirement not met.\"`\n",
    "2. If the person’s vision score is below 70, print: `\"Not eligible: Vision test not passed.\"`\n",
    "3. If the person has 3 or more accidents, print: `\"Not eligible: Too many previous accidents.\"`\n",
    "4. If all conditions are met, print: `\"Eligible for a driver's license.\"`"
   ]
  },
  {
   "cell_type": "code",
   "execution_count": 1,
   "metadata": {},
   "outputs": [],
   "source": [
    "# Your code goes here\n",
    "def check_license_eligibility(age, vision_score, accidents):\n",
    "    pass"
   ]
  },
  {
   "cell_type": "code",
   "execution_count": null,
   "metadata": {},
   "outputs": [],
   "source": [
    "# Test case 1\n",
    "result1 = check_license_eligibility(22, 80, 1)\n",
    "print(result1)  # Output: Eligible for a driver's license."
   ]
  },
  {
   "cell_type": "code",
   "execution_count": null,
   "metadata": {},
   "outputs": [],
   "source": [
    "# Test case 2\n",
    "result2 = check_license_eligibility(17, 85, 0)\n",
    "print(result2)  # Output: Not eligible: Age requirement not met."
   ]
  },
  {
   "cell_type": "code",
   "execution_count": null,
   "metadata": {},
   "outputs": [],
   "source": [
    "# Test case 3\n",
    "result3 = check_license_eligibility(91, 80, 1)\n",
    "print(result3)  # Output: Not eligible: Age requirement not met."
   ]
  },
  {
   "cell_type": "code",
   "execution_count": null,
   "metadata": {},
   "outputs": [],
   "source": [
    "# Test case 4\n",
    "result4 = check_license_eligibility(35, 65, 0)\n",
    "print(result4)  # Output: Not eligible: Vision test not passed."
   ]
  },
  {
   "cell_type": "code",
   "execution_count": null,
   "metadata": {},
   "outputs": [],
   "source": [
    "# Test case 5\n",
    "result5 = check_license_eligibility(45, 85, 3)\n",
    "print(result5)  # Output: Not eligible: Too many previous accidents."
   ]
  },
  {
   "cell_type": "markdown",
   "metadata": {},
   "source": [
    "## Ex. 2 - Processing sensor data (Functions and Lists)"
   ]
  },
  {
   "cell_type": "markdown",
   "metadata": {},
   "source": [
    "You are given a list of temperature readings (in Celsius) from a machine, recorded every hour over 24 hours. Your task is to:\n",
    "\n",
    "* Function 1: Calculate the average temperature using a for loop.\n",
    "* Function 2: Find the first temperature reading above 100°C using a while loop. If no temperature exceeds 100°C, print an appropriate message.\n",
    "* Function 3: Determine the maximum and minimum temperatures recorded during the day without using Python's built-in `max()` or `min()` functions."
   ]
  },
  {
   "cell_type": "markdown",
   "metadata": {},
   "source": [
    "Given a sequence of temperatures, compute the following statistics:"
   ]
  },
  {
   "cell_type": "code",
   "execution_count": 37,
   "metadata": {},
   "outputs": [],
   "source": [
    "temperatures = [88, 90, 92, 94, 93, 99, 101, 95, 100, 98, 89, 91, 90, 93, 97, 95, 102, 96, 99, 94, 89, 85, 83, 80]"
   ]
  },
  {
   "cell_type": "markdown",
   "metadata": {},
   "source": [
    "### Step 1: Write a function to calculate the average temperature"
   ]
  },
  {
   "cell_type": "code",
   "execution_count": 38,
   "metadata": {},
   "outputs": [],
   "source": [
    "# Your code goes here\n",
    "\n",
    "def average_temperature(list_of_temperatures):\n",
    "    pass"
   ]
  },
  {
   "cell_type": "code",
   "execution_count": null,
   "metadata": {},
   "outputs": [],
   "source": [
    "average_temp = average_temperature(temperatures)\n",
    "print(f\"Average temperature: {average_temp:.2f}°C\")"
   ]
  },
  {
   "cell_type": "markdown",
   "metadata": {},
   "source": [
    "### Step 2: Write a function to find the first temperature above 100°C."
   ]
  },
  {
   "cell_type": "code",
   "execution_count": 40,
   "metadata": {},
   "outputs": [],
   "source": [
    "# Your code goes here\n",
    "\n",
    "def find_first_above_100(list_of_temperatures):\n",
    "    pass"
   ]
  },
  {
   "cell_type": "code",
   "execution_count": null,
   "metadata": {},
   "outputs": [],
   "source": [
    "first_above_100 = find_first_above_100(temperatures)\n",
    "if first_above_100:\n",
    "    print(f\"First temperature above 100°C: {first_above_100}°C\")\n",
    "else:\n",
    "    print(\"No temperature above 100°C was recorded.\")"
   ]
  },
  {
   "cell_type": "markdown",
   "metadata": {},
   "source": [
    "### Step 3: Write a function to find the maximum and minimum temperature\n",
    "\n",
    "Hint #1: Implement one function that finds the maximum. Then, extend your function to find both the maximum and the minimum.\n",
    "\n",
    "Hint #2: Return both the min and the max values in the same return statement\n",
    "(e.g. return max_temp, min_temp)."
   ]
  },
  {
   "cell_type": "code",
   "execution_count": 42,
   "metadata": {},
   "outputs": [],
   "source": [
    "# Your code goes here\n",
    "\n",
    "def find_max_min(list_of_temperatures):\n",
    "    pass"
   ]
  },
  {
   "cell_type": "code",
   "execution_count": null,
   "metadata": {},
   "outputs": [],
   "source": [
    "max_temp, min_temp = find_max_min(temperatures)\n",
    "print(f\"Maximum temperature: {max_temp}°C\")\n",
    "print(f\"Minimum temperature: {min_temp}°C\")"
   ]
  },
  {
   "cell_type": "markdown",
   "metadata": {},
   "source": [
    "## Ex. 3 - Sales Performance Evaluation (Functions and Lists)\n",
    "\n",
    "Write a Python function to evaluate the sales performance of a list of salespeople.\n",
    "\n",
    "Each salesperson has made a number of sales over a certain period. You will use the total sales for each salesperson to classify their performance."
   ]
  },
  {
   "cell_type": "markdown",
   "metadata": {},
   "source": [
    "Write a function that:\n",
    "* Accepts a list of salespeople's names and a corresponding list of their sales.\n",
    "* Classifies each salesperson’s performance based on the following criteria:\n",
    "   1. If their sales are greater than 500, classify them as `\"Top Performer\"`.\n",
    "   2. If their sales are between 300 and 500 (inclusive), classify them as `\"Average Performer`\".\n",
    "   3. If their sales are below 300, classify them as `\"Needs Improvement\"`.\n",
    "\n",
    "The function should return a list of tuples, where each tuple contains the salesperson's name and their performance classification.\n",
    "\n",
    "**Hint**: In a first version of your function, iterate over the names, and for each name, print the corresponding category. This means that there will be no return. In the second version, extend your implementation to store the assigned categories and return a list of tuples instead of printing.\n"
   ]
  },
  {
   "cell_type": "code",
   "execution_count": 44,
   "metadata": {},
   "outputs": [],
   "source": [
    "names = [\"Alice\", \"Bob\", \"Charlie\", \"Diana\", \"Eve\"]\n",
    "sales = [600, 450, 200, 350, 150]"
   ]
  },
  {
   "cell_type": "code",
   "execution_count": 45,
   "metadata": {},
   "outputs": [],
   "source": [
    "# Your code goes here\n",
    "def classify_sales_performance(names, sales):\n",
    "    pass"
   ]
  },
  {
   "cell_type": "code",
   "execution_count": null,
   "metadata": {},
   "outputs": [],
   "source": [
    "performance_results = classify_sales_performance(names, sales)\n",
    "print(performance_results)"
   ]
  },
  {
   "cell_type": "markdown",
   "metadata": {},
   "source": [
    "## Ex. 4 - Customer Churn Prediction (Functions and Dictionaries)\n",
    "\n",
    "Write a Python function to predict customer churn based on their behavior. The data is provided as three separate dictionaries (below):\n",
    "\n",
    "* A dictionary for total purchases by each customer.\n",
    "* A dictionary for the monthly visits of each customer.\n",
    "* A dictionary for the satisfaction score of each customer.\n",
    "  \n",
    "This information will be used to classify the churn risk for each customer based on the following criteria:\n",
    "\n",
    "1. If the customer's total purchases are less than 100 and their satisfaction score is below 50, classify them as \"High Risk\".\n",
    "2. If the customer's total purchases are between 100 and 500 or their satisfaction score is between 50 and 70, classify them as \"Medium Risk\".\n",
    "3. If the customer's total purchases are above 500 or their satisfaction score is above 70, classify them as \"Low Risk\"."
   ]
  },
  {
   "cell_type": "code",
   "execution_count": 47,
   "metadata": {},
   "outputs": [],
   "source": [
    "total_purchases = {\n",
    "    \"Customer1\": 50,\n",
    "    \"Customer2\": 200,\n",
    "    \"Customer3\": 600,\n",
    "    \"Customer4\": 150,\n",
    "    \"Customer5\": 80\n",
    "}\n",
    "\n",
    "monthly_visits = {\n",
    "    \"Customer1\": 2,\n",
    "    \"Customer2\": 5,\n",
    "    \"Customer3\": 8,\n",
    "    \"Customer4\": 3,\n",
    "    \"Customer5\": 1\n",
    "}\n",
    "\n",
    "satisfaction_scores = {\n",
    "    \"Customer1\": 40,\n",
    "    \"Customer2\": 60,\n",
    "    \"Customer3\": 80,\n",
    "    \"Customer4\": 55,\n",
    "    \"Customer5\": 45\n",
    "}"
   ]
  },
  {
   "cell_type": "markdown",
   "metadata": {},
   "source": [
    "Write a function that accepts the three dictionaries (total_purchases, monthly_visits, and satisfaction_scores) and returns a dictionary with each customer's name and their predicted churn risk."
   ]
  },
  {
   "cell_type": "code",
   "execution_count": 48,
   "metadata": {},
   "outputs": [],
   "source": [
    "# Your code goes here\n",
    "\n",
    "def classify_churn_risk(purchases, visits, satisfaction_scores):\n",
    "    pass"
   ]
  },
  {
   "cell_type": "code",
   "execution_count": null,
   "metadata": {},
   "outputs": [],
   "source": [
    "churn_results = classify_churn_risk(total_purchases, monthly_visits, satisfaction_scores)\n",
    "print(churn_results)"
   ]
  },
  {
   "cell_type": "code",
   "execution_count": null,
   "metadata": {},
   "outputs": [],
   "source": []
  }
 ],
 "metadata": {
  "kernelspec": {
   "display_name": "Python 3",
   "language": "python",
   "name": "python3"
  },
  "language_info": {
   "codemirror_mode": {
    "name": "ipython",
    "version": 3
   },
   "file_extension": ".py",
   "mimetype": "text/x-python",
   "name": "python",
   "nbconvert_exporter": "python",
   "pygments_lexer": "ipython3",
   "version": "3.12.5"
  }
 },
 "nbformat": 4,
 "nbformat_minor": 4
}
